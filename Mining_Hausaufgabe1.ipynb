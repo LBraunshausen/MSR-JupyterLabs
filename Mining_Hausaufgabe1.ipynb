{
 "cells": [
  {
   "cell_type": "code",
   "execution_count": 50,
   "id": "concerned-marking",
   "metadata": {},
   "outputs": [
    {
     "name": "stdout",
     "output_type": "stream",
     "text": [
      "finished\n"
     ]
    }
   ],
   "source": [
    "import os\n",
    "os.environ[\"KMP_DUPLICATE_LIB_OK\"]=\"TRUE\"\n",
    "import matplotlib.pyplot as plt\n",
    "import json\n",
    "import spacy \n",
    "from spacy.matcher import Matcher\n",
    "import pandas as pd\n",
    "import re\n",
    "from collections import Counter\n",
    "\n",
    "\n",
    "filepath = os.path.join(os.getcwd(), 'machine-learning_dump.json')\n",
    "\n",
    "with open(filepath, encoding='utf-8') as json_file:\n",
    "    raw_data = json.load(json_file)\n",
    "    \n",
    "nlp = spacy.load(\"en_core_web_trf\")\n",
    "matcher = Matcher(nlp.vocab)\n",
    "\n",
    "\n",
    "\n",
    "\n",
    "pattern = [{\"POS\": \"NOUN\"}]\n",
    "wordlist = []\n",
    "\n",
    "for question in raw_data[\"items\"]:               \n",
    "    text = question[\"body\"]\n",
    "    text = re.sub('<pre(.|\\n)*?/pre>|<code>(.|\\n)*?</code>|(<a(.*|\\n)a>)|(<(p|\\/p|br|sub|\\/sub|em|\\/em)>)', '', text)    \n",
    "    text = re.sub('<p>|</p>|<a>|</a>|<br>', '' ,text)\n",
    "\n",
    "    \n",
    "    doc = nlp(text)\n",
    "    matcher.add(\"match_nouns\", [pattern])\n",
    "    matches = matcher(doc)\n",
    "    for match_id, start, end in matches:\n",
    "        wordlist.append(doc[start:end].text)   \n",
    "\n",
    "c = Counter(wordlist)\n",
    "print(\"finished\")"
   ]
  },
  {
   "cell_type": "code",
   "execution_count": 63,
   "id": "enormous-popularity",
   "metadata": {},
   "outputs": [
    {
     "data": {
      "text/plain": [
       "<AxesSubplot:>"
      ]
     },
     "execution_count": 63,
     "metadata": {},
     "output_type": "execute_result"
    },
    {
     "data": {
      "text/plain": [
       "<Figure size 432x288 with 0 Axes>"
      ]
     },
     "metadata": {},
     "output_type": "display_data"
    },
    {
     "data": {
      "image/png": "[encoded data removed]",
      "text/plain": [
       "<Figure size 432x288 with 1 Axes>"
      ]
     },
     "metadata": {
      "needs_background": "light"
     },
     "output_type": "display_data"
    }
   ],
   "source": [
    "counter_bigger_than = Counter({k: c for k,c in c.items() if c >= 5})\n",
    "sortedlist = counter_bigger_than.most_common()\n",
    "df = pd.DataFrame.from_dict(counter_bigger_than, orient='index', columns=[\"Anzahl\"]).sort_values(by=['Anzahl'], ascending=False)\n",
    "\n",
    "plt.figure()\n",
    "df.plot(kind = 'bar')"
   ]
  },
  {
   "cell_type": "code",
   "execution_count": null,
   "id": "conditional-validation",
   "metadata": {},
   "outputs": [],
   "source": []
  }
 ],
 "metadata": {
  "kernelspec": {
   "display_name": "Python 3",
   "language": "python",
   "name": "python3"
  },
  "language_info": {
   "codemirror_mode": {
    "name": "ipython",
    "version": 3
   },
   "file_extension": ".py",
   "mimetype": "text/x-python",
   "name": "python",
   "nbconvert_exporter": "python",
   "pygments_lexer": "ipython3",
   "version": "3.9.2"
  }
 },
 "nbformat": 4,
 "nbformat_minor": 5
}
